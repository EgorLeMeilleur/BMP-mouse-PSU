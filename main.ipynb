{
  "cells": [
    {
      "cell_type": "markdown",
      "id": "dc1432d4",
      "metadata": {},
      "source": [
        "# НУЖНО ВЫБРАТЬ МЕТРИКУ И ОБУЧИТЬ МОДЕЛЬ"
      ]
    },
    {
      "cell_type": "code",
      "execution_count": 1,
      "id": "hjO9f4gnIoCf",
      "metadata": {
        "colab": {
          "base_uri": "https://localhost:8080/"
        },
        "id": "hjO9f4gnIoCf",
        "outputId": "e789306e-f32e-4843-e621-b7742b27d293"
      },
      "outputs": [
        {
          "name": "stdout",
          "output_type": "stream",
          "text": [
            "cpu\n"
          ]
        }
      ],
      "source": [
        "import torch\n",
        "import torch.nn as nn\n",
        "import torch.optim as optim\n",
        "from torch.utils.data import Dataset, DataLoader\n",
        "import pandas as pd\n",
        "from PIL import Image\n",
        "import os\n",
        "import torchvision.transforms as transforms\n",
        "import numpy as np\n",
        "from tqdm import tqdm\n",
        "import matplotlib.pyplot as plt\n",
        "import sklearn\n",
        "\n",
        "folder_path = \"data/20230904_segm_rat_OFT_gray_back/20230904_segm_rat_OFT_gray_back\"\n",
        "\n",
        "device = torch.device(\"cuda:0\" if torch.cuda.is_available() else \"cpu\")\n",
        "print(device)\n",
        "\n",
        "train_df = pd.read_csv(\"train_data.csv\")\n",
        "test = pd.read_csv(\"test_data.csv\")"
      ]
    },
    {
      "cell_type": "code",
      "execution_count": 5,
      "id": "12ef3ad3",
      "metadata": {},
      "outputs": [
        {
          "name": "stdout",
          "output_type": "stream",
          "text": [
            "CSV file created successfully!\n"
          ]
        }
      ],
      "source": [
        "# import os\n",
        "# import pandas as pd\n",
        "\n",
        "# train_images_folder = folder_path + \"/test_images\"\n",
        "# train_masks_folder = folder_path + \"/test_masks\"\n",
        "\n",
        "# train_images_files = os.listdir(train_images_folder)\n",
        "# train_masks_files = os.listdir(train_masks_folder)\n",
        "\n",
        "# image_paths = [os.path.join(\"test_images\", file) for file in train_images_files]\n",
        "# mask_paths = [os.path.join(\"test_masks\", file) for file in train_masks_files]\n",
        "\n",
        "# data = {'orig_image': image_paths, 'mask_image': mask_paths}\n",
        "# df = pd.DataFrame(data)\n",
        "\n",
        "# csv_file_path = \"test_data.csv\"\n",
        "\n",
        "# df.to_csv(csv_file_path, index=False)\n",
        "\n",
        "# print(\"CSV file created successfully!\")"
      ]
    },
    {
      "cell_type": "code",
      "execution_count": null,
      "id": "01185e90",
      "metadata": {},
      "outputs": [],
      "source": [
        "def draw(orig_image, mask_image):\n",
        "    fig, axes = plt.subplots(1, 2)\n",
        "\n",
        "    axes[0].imshow(orig_image)\n",
        "    axes[0].set_title('Original Image')\n",
        "    \n",
        "    axes[1].imshow(mask_image)\n",
        "    axes[1].set_title('Mask Image')\n",
        "\n",
        "    plt.tight_layout()\n",
        "    plt.show()"
      ]
    },
    {
      "cell_type": "markdown",
      "id": "Qp8AXKYe1GA0",
      "metadata": {
        "id": "Qp8AXKYe1GA0"
      },
      "source": [
        "### Preprocessing (подготовка данных)"
      ]
    },
    {
      "cell_type": "code",
      "execution_count": null,
      "id": "YtAjmVyknkeZ",
      "metadata": {
        "id": "YtAjmVyknkeZ"
      },
      "outputs": [],
      "source": [
        "class ImagesDataset(Dataset):\n",
        "    def __init__(self, folder, data, transform):\n",
        "      self.folder = folder\n",
        "      self.data = data.copy()\n",
        "      self.orig_image_paths = [os.path.join(folder, filename) for filename in data['orig_image'].copy()]\n",
        "      self.mask_image_paths = [os.path.join(folder, filename) for filename in data['mask_image'].copy()]\n",
        "      self.transform = transform\n",
        "\n",
        "    def __len__(self):\n",
        "        return len(self.orig_image_paths)\n",
        "\n",
        "    def __getitem__(self, idx):\n",
        "        orig_image_path = self.orig_image_paths[idx]\n",
        "        mask_image_path = self.mask_image_paths[idx]\n",
        "        orig_image = Image.open(orig_image_path).convert('RGB')\n",
        "        mask_image = Image.open(mask_image_path).convert('RGB')\n",
        "\n",
        "        orig_image = self.transform(orig_image)\n",
        "        orig_image = orig_image.to(orig_image)\n",
        "        \n",
        "        mask_image = self.transform(mask_image)\n",
        "        mask_image = mask_image.to(mask_image)\n",
        "\n",
        "        return orig_image.float(), mask_image.float()"
      ]
    },
    {
      "cell_type": "code",
      "execution_count": null,
      "id": "QYSoz-zi1dxx",
      "metadata": {
        "id": "QYSoz-zi1dxx"
      },
      "outputs": [],
      "source": [
        "from sklearn.model_selection import train_test_split\n",
        "\n",
        "train, val = train_test_split(train_df, test_size=0.1 , random_state=42)\n",
        "\n",
        "size = (224, 224)\n",
        "mean=[0.485, 0.456, 0.406]\n",
        "std=[0.229, 0.224, 0.225]\n",
        "batch_size = 8\n",
        "\n",
        "transform = transforms.Compose([transforms.Resize(size), transforms.ToTensor(),\n",
        "                                 transforms.Normalize(mean=mean, std=std)])\n",
        "\n",
        "train_dataset = ImagesDataset(folder_path, train, transform)\n",
        "val_dataset = ImagesDataset(folder_path, val, transform)\n",
        "test_dataset = ImagesDataset(folder_path, test, transform)\n",
        "train_loader = DataLoader(train_dataset, batch_size=batch_size, shuffle=True)\n",
        "val_loader = DataLoader(val_dataset, batch_size=batch_size, shuffle=False)\n",
        "test_loader = DataLoader(test_dataset, batch_size=batch_size, shuffle=False)"
      ]
    },
    {
      "cell_type": "markdown",
      "id": "rrEV7VFN1_60",
      "metadata": {
        "id": "rrEV7VFN1_60"
      },
      "source": [
        "### Training/evaluation loop"
      ]
    },
    {
      "cell_type": "code",
      "execution_count": null,
      "id": "sDeneMzs7XOP",
      "metadata": {
        "id": "sDeneMzs7XOP"
      },
      "outputs": [],
      "source": [
        "def learning(num_epochs, train_load, val_load, model, optimizer, criterion):\n",
        "  model.to(device)\n",
        "\n",
        "  train_losses = []\n",
        "  val_losses = []\n",
        "\n",
        "  for epoch in range(num_epochs):\n",
        "    model.train()\n",
        "    train_loss = 0\n",
        "    for x_batch, y_batch in tqdm(train_load):\n",
        "        x_batch, y_batch = x_batch.to(device), y_batch.to(device)\n",
        "        optimizer.zero_grad()\n",
        "        outputs = model(x_batch)\n",
        "        loss = criterion(outputs, y_batch)\n",
        "        loss.backward()\n",
        "        optimizer.step()\n",
        "        train_loss += loss.item()\n",
        "    train_losses.append(train_loss/len(train_load))\n",
        "\n",
        "    model.eval()\n",
        "    val_loss = 0\n",
        "    with torch.no_grad():\n",
        "        for x_batch, y_batch in tqdm(val_load):\n",
        "          x_batch, y_batch = x_batch.to(device), y_batch.to(device)\n",
        "          outputs = model(x_batch)\n",
        "          loss = criterion(outputs, y_batch)\n",
        "          val_loss += (loss.item())\n",
        "    val_losses.append(val_loss/len(val_load))\n",
        "\n",
        "    print(f\"Epoch [{epoch+1}/{num_epochs}], Train loss: {train_loss:.4f}, Val loss: {val_loss:.4f}\")\n",
        "  return model, train_losses, val_losses"
      ]
    },
    {
      "cell_type": "markdown",
      "id": "4AFsMmyU2Dgx",
      "metadata": {
        "id": "4AFsMmyU2Dgx"
      },
      "source": [
        "### Prediction function"
      ]
    },
    {
      "cell_type": "code",
      "execution_count": null,
      "id": "SZ6m_ecg-BVX",
      "metadata": {
        "id": "SZ6m_ecg-BVX"
      },
      "outputs": [],
      "source": [
        "def prediction(model, loader):\n",
        "  model.eval()\n",
        "  predictions = []\n",
        "  orig_images = []\n",
        "  with torch.no_grad():\n",
        "    for x_batch, y_batch in tqdm(loader):\n",
        "        x_batch, y_batch = x_batch.to(device), y_batch.to(device)\n",
        "        outputs = model(x_batch)\n",
        "        predictions.append(outputs.cpu().numpy())\n",
        "        orig_images.append(outputs.cpu().numpy())\n",
        "  predictions = np.concatenate(predictions, axis=0).flatten()\n",
        "  orig_images = np.concatenate(orig_images, axis=0).flatten()\n",
        "  return predictions, orig_images"
      ]
    },
    {
      "cell_type": "code",
      "execution_count": null,
      "id": "dtTBU591VaJY",
      "metadata": {
        "id": "dtTBU591VaJY"
      },
      "outputs": [],
      "source": [
        "def validation(model, loader, images_to_draw):\n",
        "    predictions, orig_images = prediction(model, loader)\n",
        "\n",
        "    # выбрать метрику\n",
        "    \n",
        "    for i in range(images_to_draw):\n",
        "        draw(orig_images[i], predictions[i])\n"
      ]
    },
    {
      "cell_type": "markdown",
      "id": "l12xJx4g2G4w",
      "metadata": {
        "id": "l12xJx4g2G4w"
      },
      "source": [
        "### Experiments"
      ]
    },
    {
      "cell_type": "code",
      "execution_count": null,
      "id": "957ba6f3",
      "metadata": {
        "id": "957ba6f3"
      },
      "outputs": [],
      "source": [
        "import torchvision\n",
        "model = torchvision.models.get_model('googlenet', weights='DEFAULT')"
      ]
    },
    {
      "cell_type": "code",
      "execution_count": null,
      "id": "GmF0kc5R2RAG",
      "metadata": {
        "colab": {
          "base_uri": "https://localhost:8080/",
          "height": 1000
        },
        "id": "GmF0kc5R2RAG",
        "outputId": "dca52f72-a6a2-4f53-a85f-9b755c948755"
      },
      "outputs": [
        {
          "name": "stderr",
          "output_type": "stream",
          "text": [
            "100%|██████████| 29/29 [00:16<00:00,  1.77it/s]\n",
            "100%|██████████| 4/4 [00:01<00:00,  2.13it/s]\n"
          ]
        },
        {
          "name": "stdout",
          "output_type": "stream",
          "text": [
            "Epoch [1/40], Train loss: 9.4540, Val loss: 1.1760\n"
          ]
        },
        {
          "name": "stderr",
          "output_type": "stream",
          "text": [
            "100%|██████████| 29/29 [00:14<00:00,  1.93it/s]\n",
            "100%|██████████| 4/4 [00:01<00:00,  2.18it/s]\n"
          ]
        },
        {
          "name": "stdout",
          "output_type": "stream",
          "text": [
            "Epoch [2/40], Train loss: 1.8354, Val loss: 0.6199\n"
          ]
        },
        {
          "name": "stderr",
          "output_type": "stream",
          "text": [
            "100%|██████████| 29/29 [00:15<00:00,  1.92it/s]\n",
            "100%|██████████| 4/4 [00:01<00:00,  2.86it/s]\n"
          ]
        },
        {
          "name": "stdout",
          "output_type": "stream",
          "text": [
            "Epoch [3/40], Train loss: 1.0202, Val loss: 0.3799\n"
          ]
        },
        {
          "name": "stderr",
          "output_type": "stream",
          "text": [
            "100%|██████████| 29/29 [00:15<00:00,  1.93it/s]\n",
            "100%|██████████| 4/4 [00:01<00:00,  2.16it/s]\n"
          ]
        },
        {
          "name": "stdout",
          "output_type": "stream",
          "text": [
            "Epoch [4/40], Train loss: 0.2686, Val loss: 0.2542\n"
          ]
        },
        {
          "name": "stderr",
          "output_type": "stream",
          "text": [
            "100%|██████████| 29/29 [00:15<00:00,  1.85it/s]\n",
            "100%|██████████| 4/4 [00:01<00:00,  2.87it/s]\n"
          ]
        },
        {
          "name": "stdout",
          "output_type": "stream",
          "text": [
            "Epoch [5/40], Train loss: 0.1578, Val loss: 0.2579\n"
          ]
        },
        {
          "name": "stderr",
          "output_type": "stream",
          "text": [
            "100%|██████████| 29/29 [00:15<00:00,  1.93it/s]\n",
            "100%|██████████| 4/4 [00:01<00:00,  2.91it/s]\n"
          ]
        },
        {
          "name": "stdout",
          "output_type": "stream",
          "text": [
            "Epoch [6/40], Train loss: 0.1101, Val loss: 0.2340\n"
          ]
        },
        {
          "name": "stderr",
          "output_type": "stream",
          "text": [
            "100%|██████████| 29/29 [00:15<00:00,  1.91it/s]\n",
            "100%|██████████| 4/4 [00:01<00:00,  2.83it/s]\n"
          ]
        },
        {
          "name": "stdout",
          "output_type": "stream",
          "text": [
            "Epoch [7/40], Train loss: 0.3029, Val loss: 0.8562\n"
          ]
        },
        {
          "name": "stderr",
          "output_type": "stream",
          "text": [
            "100%|██████████| 29/29 [00:16<00:00,  1.79it/s]\n",
            "100%|██████████| 4/4 [00:01<00:00,  2.86it/s]\n"
          ]
        },
        {
          "name": "stdout",
          "output_type": "stream",
          "text": [
            "Epoch [8/40], Train loss: 0.5817, Val loss: 0.4602\n"
          ]
        },
        {
          "name": "stderr",
          "output_type": "stream",
          "text": [
            "100%|██████████| 29/29 [00:16<00:00,  1.81it/s]\n",
            "100%|██████████| 4/4 [00:01<00:00,  2.85it/s]\n"
          ]
        },
        {
          "name": "stdout",
          "output_type": "stream",
          "text": [
            "Epoch [9/40], Train loss: 0.1738, Val loss: 0.2404\n"
          ]
        },
        {
          "name": "stderr",
          "output_type": "stream",
          "text": [
            "100%|██████████| 29/29 [00:15<00:00,  1.93it/s]\n",
            "100%|██████████| 4/4 [00:01<00:00,  2.92it/s]\n"
          ]
        },
        {
          "name": "stdout",
          "output_type": "stream",
          "text": [
            "Epoch [10/40], Train loss: 0.2270, Val loss: 0.1955\n"
          ]
        },
        {
          "name": "stderr",
          "output_type": "stream",
          "text": [
            "100%|██████████| 29/29 [00:15<00:00,  1.90it/s]\n",
            "100%|██████████| 4/4 [00:01<00:00,  2.34it/s]\n"
          ]
        },
        {
          "name": "stdout",
          "output_type": "stream",
          "text": [
            "Epoch [11/40], Train loss: 0.1036, Val loss: 0.1922\n"
          ]
        },
        {
          "name": "stderr",
          "output_type": "stream",
          "text": [
            "100%|██████████| 29/29 [00:15<00:00,  1.89it/s]\n",
            "100%|██████████| 4/4 [00:01<00:00,  2.88it/s]\n"
          ]
        },
        {
          "name": "stdout",
          "output_type": "stream",
          "text": [
            "Epoch [12/40], Train loss: 0.0612, Val loss: 0.1762\n"
          ]
        },
        {
          "name": "stderr",
          "output_type": "stream",
          "text": [
            "100%|██████████| 29/29 [00:15<00:00,  1.86it/s]\n",
            "100%|██████████| 4/4 [00:01<00:00,  2.79it/s]\n"
          ]
        },
        {
          "name": "stdout",
          "output_type": "stream",
          "text": [
            "Epoch [13/40], Train loss: 0.2694, Val loss: 0.2681\n"
          ]
        },
        {
          "name": "stderr",
          "output_type": "stream",
          "text": [
            "100%|██████████| 29/29 [00:15<00:00,  1.85it/s]\n",
            "100%|██████████| 4/4 [00:01<00:00,  2.06it/s]\n"
          ]
        },
        {
          "name": "stdout",
          "output_type": "stream",
          "text": [
            "Epoch [14/40], Train loss: 0.2018, Val loss: 0.3363\n"
          ]
        },
        {
          "name": "stderr",
          "output_type": "stream",
          "text": [
            "100%|██████████| 29/29 [00:15<00:00,  1.86it/s]\n",
            "100%|██████████| 4/4 [00:01<00:00,  2.92it/s]\n"
          ]
        },
        {
          "name": "stdout",
          "output_type": "stream",
          "text": [
            "Epoch [15/40], Train loss: 0.0634, Val loss: 0.2346\n"
          ]
        },
        {
          "name": "stderr",
          "output_type": "stream",
          "text": [
            "100%|██████████| 29/29 [00:14<00:00,  1.94it/s]\n",
            "100%|██████████| 4/4 [00:01<00:00,  2.99it/s]\n"
          ]
        },
        {
          "name": "stdout",
          "output_type": "stream",
          "text": [
            "Epoch [16/40], Train loss: 0.0617, Val loss: 0.2180\n"
          ]
        },
        {
          "name": "stderr",
          "output_type": "stream",
          "text": [
            "100%|██████████| 29/29 [00:14<00:00,  1.95it/s]\n",
            "100%|██████████| 4/4 [00:01<00:00,  2.74it/s]\n"
          ]
        },
        {
          "name": "stdout",
          "output_type": "stream",
          "text": [
            "Epoch [17/40], Train loss: 0.3631, Val loss: 0.1639\n"
          ]
        },
        {
          "name": "stderr",
          "output_type": "stream",
          "text": [
            "100%|██████████| 29/29 [00:15<00:00,  1.87it/s]\n",
            "100%|██████████| 4/4 [00:01<00:00,  2.79it/s]\n"
          ]
        },
        {
          "name": "stdout",
          "output_type": "stream",
          "text": [
            "Epoch [18/40], Train loss: 0.1656, Val loss: 0.2724\n"
          ]
        },
        {
          "name": "stderr",
          "output_type": "stream",
          "text": [
            "100%|██████████| 29/29 [00:14<00:00,  1.93it/s]\n",
            "100%|██████████| 4/4 [00:01<00:00,  2.97it/s]\n"
          ]
        },
        {
          "name": "stdout",
          "output_type": "stream",
          "text": [
            "Epoch [19/40], Train loss: 0.1061, Val loss: 0.1684\n"
          ]
        },
        {
          "name": "stderr",
          "output_type": "stream",
          "text": [
            "100%|██████████| 29/29 [00:15<00:00,  1.92it/s]\n",
            "100%|██████████| 4/4 [00:01<00:00,  2.68it/s]\n"
          ]
        },
        {
          "name": "stdout",
          "output_type": "stream",
          "text": [
            "Epoch [20/40], Train loss: 0.0591, Val loss: 0.1641\n"
          ]
        },
        {
          "name": "stderr",
          "output_type": "stream",
          "text": [
            "100%|██████████| 29/29 [00:15<00:00,  1.89it/s]\n",
            "100%|██████████| 4/4 [00:01<00:00,  2.11it/s]\n"
          ]
        },
        {
          "name": "stdout",
          "output_type": "stream",
          "text": [
            "Epoch [21/40], Train loss: 0.0581, Val loss: 0.2086\n"
          ]
        },
        {
          "name": "stderr",
          "output_type": "stream",
          "text": [
            "100%|██████████| 29/29 [00:15<00:00,  1.89it/s]\n",
            "100%|██████████| 4/4 [00:01<00:00,  2.88it/s]\n"
          ]
        },
        {
          "name": "stdout",
          "output_type": "stream",
          "text": [
            "Epoch [22/40], Train loss: 0.0629, Val loss: 0.1725\n"
          ]
        },
        {
          "name": "stderr",
          "output_type": "stream",
          "text": [
            "100%|██████████| 29/29 [00:15<00:00,  1.92it/s]\n",
            "100%|██████████| 4/4 [00:01<00:00,  2.92it/s]\n"
          ]
        },
        {
          "name": "stdout",
          "output_type": "stream",
          "text": [
            "Epoch [23/40], Train loss: 0.0797, Val loss: 0.2565\n"
          ]
        },
        {
          "name": "stderr",
          "output_type": "stream",
          "text": [
            "100%|██████████| 29/29 [00:15<00:00,  1.92it/s]\n",
            "100%|██████████| 4/4 [00:01<00:00,  2.61it/s]\n"
          ]
        },
        {
          "name": "stdout",
          "output_type": "stream",
          "text": [
            "Epoch [24/40], Train loss: 0.0581, Val loss: 0.2040\n"
          ]
        },
        {
          "name": "stderr",
          "output_type": "stream",
          "text": [
            "100%|██████████| 29/29 [00:15<00:00,  1.86it/s]\n",
            "100%|██████████| 4/4 [00:01<00:00,  2.89it/s]\n"
          ]
        },
        {
          "name": "stdout",
          "output_type": "stream",
          "text": [
            "Epoch [25/40], Train loss: 0.0248, Val loss: 0.1954\n"
          ]
        },
        {
          "name": "stderr",
          "output_type": "stream",
          "text": [
            "100%|██████████| 29/29 [00:15<00:00,  1.89it/s]\n",
            "100%|██████████| 4/4 [00:01<00:00,  3.01it/s]\n"
          ]
        },
        {
          "name": "stdout",
          "output_type": "stream",
          "text": [
            "Epoch [26/40], Train loss: 0.0175, Val loss: 0.1627\n"
          ]
        },
        {
          "name": "stderr",
          "output_type": "stream",
          "text": [
            "100%|██████████| 29/29 [00:15<00:00,  1.93it/s]\n",
            "100%|██████████| 4/4 [00:01<00:00,  2.86it/s]\n"
          ]
        },
        {
          "name": "stdout",
          "output_type": "stream",
          "text": [
            "Epoch [27/40], Train loss: 0.0201, Val loss: 0.1597\n"
          ]
        },
        {
          "name": "stderr",
          "output_type": "stream",
          "text": [
            "100%|██████████| 29/29 [00:15<00:00,  1.89it/s]\n",
            "100%|██████████| 4/4 [00:01<00:00,  2.18it/s]\n"
          ]
        },
        {
          "name": "stdout",
          "output_type": "stream",
          "text": [
            "Epoch [28/40], Train loss: 0.0179, Val loss: 0.1557\n"
          ]
        },
        {
          "name": "stderr",
          "output_type": "stream",
          "text": [
            "100%|██████████| 29/29 [00:15<00:00,  1.93it/s]\n",
            "100%|██████████| 4/4 [00:01<00:00,  2.95it/s]\n"
          ]
        },
        {
          "name": "stdout",
          "output_type": "stream",
          "text": [
            "Epoch [29/40], Train loss: 0.0180, Val loss: 0.1493\n"
          ]
        },
        {
          "name": "stderr",
          "output_type": "stream",
          "text": [
            "100%|██████████| 29/29 [00:15<00:00,  1.93it/s]\n",
            "100%|██████████| 4/4 [00:01<00:00,  2.94it/s]\n"
          ]
        },
        {
          "name": "stdout",
          "output_type": "stream",
          "text": [
            "Epoch [30/40], Train loss: 0.0262, Val loss: 0.1462\n"
          ]
        },
        {
          "name": "stderr",
          "output_type": "stream",
          "text": [
            "100%|██████████| 29/29 [00:14<00:00,  1.94it/s]\n",
            "100%|██████████| 4/4 [00:01<00:00,  2.84it/s]\n"
          ]
        },
        {
          "name": "stdout",
          "output_type": "stream",
          "text": [
            "Epoch [31/40], Train loss: 0.0122, Val loss: 0.1693\n"
          ]
        },
        {
          "name": "stderr",
          "output_type": "stream",
          "text": [
            "100%|██████████| 29/29 [00:15<00:00,  1.86it/s]\n",
            "100%|██████████| 4/4 [00:01<00:00,  2.91it/s]\n"
          ]
        },
        {
          "name": "stdout",
          "output_type": "stream",
          "text": [
            "Epoch [32/40], Train loss: 0.0444, Val loss: 0.1503\n"
          ]
        },
        {
          "name": "stderr",
          "output_type": "stream",
          "text": [
            "100%|██████████| 29/29 [00:15<00:00,  1.92it/s]\n",
            "100%|██████████| 4/4 [00:01<00:00,  2.94it/s]\n"
          ]
        },
        {
          "name": "stdout",
          "output_type": "stream",
          "text": [
            "Epoch [33/40], Train loss: 0.0132, Val loss: 0.1720\n"
          ]
        },
        {
          "name": "stderr",
          "output_type": "stream",
          "text": [
            "100%|██████████| 29/29 [00:15<00:00,  1.92it/s]\n",
            "100%|██████████| 4/4 [00:01<00:00,  2.87it/s]\n"
          ]
        },
        {
          "name": "stdout",
          "output_type": "stream",
          "text": [
            "Epoch [34/40], Train loss: 0.0630, Val loss: 0.1840\n"
          ]
        },
        {
          "name": "stderr",
          "output_type": "stream",
          "text": [
            "100%|██████████| 29/29 [00:15<00:00,  1.92it/s]\n",
            "100%|██████████| 4/4 [00:01<00:00,  2.12it/s]\n"
          ]
        },
        {
          "name": "stdout",
          "output_type": "stream",
          "text": [
            "Epoch [35/40], Train loss: 0.0436, Val loss: 0.2255\n"
          ]
        },
        {
          "name": "stderr",
          "output_type": "stream",
          "text": [
            "100%|██████████| 29/29 [00:15<00:00,  1.92it/s]\n",
            "100%|██████████| 4/4 [00:01<00:00,  2.94it/s]\n"
          ]
        },
        {
          "name": "stdout",
          "output_type": "stream",
          "text": [
            "Epoch [36/40], Train loss: 0.0226, Val loss: 0.2929\n"
          ]
        },
        {
          "name": "stderr",
          "output_type": "stream",
          "text": [
            "100%|██████████| 29/29 [00:15<00:00,  1.92it/s]\n",
            "100%|██████████| 4/4 [00:01<00:00,  2.89it/s]\n"
          ]
        },
        {
          "name": "stdout",
          "output_type": "stream",
          "text": [
            "Epoch [37/40], Train loss: 0.1102, Val loss: 0.3982\n"
          ]
        },
        {
          "name": "stderr",
          "output_type": "stream",
          "text": [
            "100%|██████████| 29/29 [00:15<00:00,  1.92it/s]\n",
            "100%|██████████| 4/4 [00:01<00:00,  2.93it/s]\n"
          ]
        },
        {
          "name": "stdout",
          "output_type": "stream",
          "text": [
            "Epoch [38/40], Train loss: 0.1582, Val loss: 1.1704\n"
          ]
        },
        {
          "name": "stderr",
          "output_type": "stream",
          "text": [
            "100%|██████████| 29/29 [00:15<00:00,  1.87it/s]\n",
            "100%|██████████| 4/4 [00:01<00:00,  2.70it/s]\n"
          ]
        },
        {
          "name": "stdout",
          "output_type": "stream",
          "text": [
            "Epoch [39/40], Train loss: 0.0980, Val loss: 0.1837\n"
          ]
        },
        {
          "name": "stderr",
          "output_type": "stream",
          "text": [
            "100%|██████████| 29/29 [00:14<00:00,  1.94it/s]\n",
            "100%|██████████| 4/4 [00:01<00:00,  2.97it/s]\n"
          ]
        },
        {
          "name": "stdout",
          "output_type": "stream",
          "text": [
            "Epoch [40/40], Train loss: 0.1148, Val loss: 0.1554\n"
          ]
        },
        {
          "data": {
            "image/png": "[encoded data removed]",
            "text/plain": [
              "<Figure size 640x480 with 2 Axes>"
            ]
          },
          "metadata": {},
          "output_type": "display_data"
        }
      ],
      "source": [
        "model.fc = nn.Linear(1024, 1)\n",
        "\n",
        "num_epochs = 40\n",
        "learning_rate = 0.001\n",
        "optimizer = optim.Adamax(model.parameters(), lr=learning_rate)\n",
        "criterion = nn.BCELoss()\n",
        "\n",
        "model, train_losses, val_losses = learning(num_epochs, train_loader, val_loader, model, optimizer, criterion)\n",
        "\n",
        "plt.subplot(2, 1, 1)\n",
        "plt.plot(train_losses, label='Training Losses', color='blue')\n",
        "plt.xlabel('Epoch')\n",
        "plt.ylabel('Loss')\n",
        "plt.title('Training Losses')\n",
        "plt.legend()\n",
        "plt.subplot(2, 1, 2)\n",
        "plt.plot(val_losses, label='Validation Losses', color='orange')\n",
        "plt.xlabel('Epoch')\n",
        "plt.ylabel('Loss')\n",
        "plt.title('Validation Losses')\n",
        "plt.legend()\n",
        "plt.tight_layout()\n",
        "plt.show()"
      ]
    },
    {
      "cell_type": "markdown",
      "id": "YpqqcBlY62Sw",
      "metadata": {
        "id": "YpqqcBlY62Sw"
      },
      "source": [
        "### Evaluation (оценка качества модели)"
      ]
    },
    {
      "cell_type": "code",
      "execution_count": null,
      "id": "5bcdf0ea",
      "metadata": {
        "colab": {
          "base_uri": "https://localhost:8080/",
          "height": 1000
        },
        "id": "5bcdf0ea",
        "outputId": "878e92cf-335f-4376-ffcd-63f26e424bbc"
      },
      "outputs": [],
      "source": [
        "validation(model, val_loader, 10)"
      ]
    },
    {
      "cell_type": "code",
      "execution_count": null,
      "id": "_u8V0p8JKod7",
      "metadata": {
        "colab": {
          "base_uri": "https://localhost:8080/",
          "height": 1000
        },
        "id": "_u8V0p8JKod7",
        "outputId": "52903fad-61d0-4fb8-c00a-29b75ac7e89a"
      },
      "outputs": [],
      "source": [
        "validation(model, test_loader, 10)"
      ]
    }
  ],
  "metadata": {
    "accelerator": "GPU",
    "colab": {
      "gpuType": "T4",
      "provenance": []
    },
    "kernelspec": {
      "display_name": "Python 3",
      "name": "python3"
    },
    "language_info": {
      "codemirror_mode": {
        "name": "ipython",
        "version": 3
      },
      "file_extension": ".py",
      "mimetype": "text/x-python",
      "name": "python",
      "nbconvert_exporter": "python",
      "pygments_lexer": "ipython3",
      "version": "3.9.13"
    }
  },
  "nbformat": 4,
  "nbformat_minor": 5
}
