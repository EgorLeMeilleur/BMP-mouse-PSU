{
  "cells": [
    {
      "cell_type": "markdown",
      "id": "dc1432d4",
      "metadata": {},
      "source": [
        "# НУЖНО ВЫБРАТЬ МЕТРИКУ И ОБУЧИТЬ МОДЕЛЬ"
      ]
    },
    {
      "cell_type": "code",
      "execution_count": 21,
      "id": "hjO9f4gnIoCf",
      "metadata": {
        "colab": {
          "base_uri": "https://localhost:8080/"
        },
        "id": "hjO9f4gnIoCf",
        "outputId": "e789306e-f32e-4843-e621-b7742b27d293"
      },
      "outputs": [
        {
          "name": "stdout",
          "output_type": "stream",
          "text": [
            "cuda:0\n"
          ]
        }
      ],
      "source": [
        "import torch\n",
        "import torch.nn as nn\n",
        "import torch.optim as optim\n",
        "from torch.utils.data import Dataset, DataLoader\n",
        "import pandas as pd\n",
        "from PIL import Image\n",
        "import os\n",
        "import torchvision.transforms as transforms\n",
        "import numpy as np\n",
        "from tqdm import tqdm\n",
        "import matplotlib.pyplot as plt\n",
        "from torchmetrics.detection import IntersectionOverUnion\n",
        "\n",
        "folder_path = \"20230530_segm_black_mouse_mnSLA_red_and_black_back\"\n",
        "\n",
        "device = torch.device(\"cuda:0\" if torch.cuda.is_available() else \"cpu\")\n",
        "print(device)\n",
        "\n",
        "train_df = pd.read_csv(\"train_data.csv\")\n",
        "test = pd.read_csv(\"test_data.csv\")"
      ]
    },
    {
      "cell_type": "code",
      "execution_count": 15,
      "id": "28bb0a8f",
      "metadata": {},
      "outputs": [
        {
          "name": "stdout",
          "output_type": "stream",
          "text": [
            "Note: you may need to restart the kernel to use updated packages.\n"
          ]
        },
        {
          "name": "stderr",
          "output_type": "stream",
          "text": [
            "���⠪��᪠� �訡�� � ����� 䠩��, ����� ����� ��� ��⪥ ⮬�.\n"
          ]
        }
      ],
      "source": [
        "%pip install torchmetrics"
      ]
    },
    {
      "cell_type": "code",
      "execution_count": 6,
      "id": "12ef3ad3",
      "metadata": {},
      "outputs": [
        {
          "name": "stdout",
          "output_type": "stream",
          "text": [
            "CSV file created successfully!\n"
          ]
        }
      ],
      "source": [
        "# import os\n",
        "# import pandas as pd\n",
        "\n",
        "# train_images_folder = folder_path + \"/images\"\n",
        "# train_masks_folder = folder_path + \"/masks\"\n",
        "\n",
        "# train_images_files = os.listdir(train_images_folder)\n",
        "# train_masks_files = os.listdir(train_masks_folder)\n",
        "\n",
        "# image_paths = [os.path.join(\"images\", file) for file in train_images_files]\n",
        "# mask_paths = [os.path.join(\"masks\", file) for file in train_masks_files]\n",
        "\n",
        "# data = {'orig_image': image_paths, 'mask_image': mask_paths}\n",
        "# df = pd.DataFrame(data)\n",
        "\n",
        "# csv_file_path = \"train_data.csv\"\n",
        "\n",
        "# df.to_csv(csv_file_path, index=False)\n",
        "\n",
        "# print(\"CSV file created successfully!\")"
      ]
    },
    {
      "cell_type": "code",
      "execution_count": 22,
      "id": "01185e90",
      "metadata": {},
      "outputs": [],
      "source": [
        "def draw(orig_image, mask_image):\n",
        "    fig, axes = plt.subplots(1, 2)\n",
        "\n",
        "    axes[0].imshow(orig_image)\n",
        "    axes[0].set_title('Original Image')\n",
        "    \n",
        "    axes[1].imshow(mask_image)\n",
        "    axes[1].set_title('Mask Image')\n",
        "\n",
        "    plt.tight_layout()\n",
        "    plt.show()"
      ]
    },
    {
      "cell_type": "code",
      "execution_count": 23,
      "id": "3d651dc2",
      "metadata": {},
      "outputs": [],
      "source": [
        "def calculate_iou(pred, target):\n",
        "    intersection = torch.logical_and(pred, target).sum().item()\n",
        "    union = torch.logical_or(pred, target).sum().item()\n",
        "    \n",
        "    iou = intersection / union if union > 0 else 0.0\n",
        "    return iou"
      ]
    },
    {
      "cell_type": "markdown",
      "id": "Qp8AXKYe1GA0",
      "metadata": {
        "id": "Qp8AXKYe1GA0"
      },
      "source": [
        "### Preprocessing (подготовка данных)"
      ]
    },
    {
      "cell_type": "code",
      "execution_count": 24,
      "id": "YtAjmVyknkeZ",
      "metadata": {
        "id": "YtAjmVyknkeZ"
      },
      "outputs": [],
      "source": [
        "class ImagesDataset(Dataset):\n",
        "    def __init__(self, folder, data, transform_image, transform_mask):\n",
        "      self.folder = folder\n",
        "      self.data = data.copy()\n",
        "      self.orig_image_paths = [os.path.join(folder, filename) for filename in data['orig_image'].copy()]\n",
        "      self.mask_image_paths = [os.path.join(folder, filename) for filename in data['mask_image'].copy()]\n",
        "      self.transform_image = transform_image\n",
        "      self.transform_mask = transform_mask\n",
        "\n",
        "    def __len__(self):\n",
        "        return len(self.orig_image_paths)\n",
        "\n",
        "    def __getitem__(self, idx):\n",
        "        orig_image_path = self.orig_image_paths[idx]\n",
        "        mask_image_path = self.mask_image_paths[idx]\n",
        "        orig_image = Image.open(orig_image_path).convert('RGB')\n",
        "        mask_image = Image.open(mask_image_path).convert('L')\n",
        "\n",
        "        orig_image = self.transform_image(orig_image)\n",
        "        orig_image = orig_image.to(orig_image)\n",
        "        \n",
        "        mask_image = self.transform_mask(mask_image)\n",
        "        mask_image = mask_image.to(mask_image)\n",
        "\n",
        "        return orig_image.float(), mask_image.float()"
      ]
    },
    {
      "cell_type": "code",
      "execution_count": 26,
      "id": "QYSoz-zi1dxx",
      "metadata": {
        "id": "QYSoz-zi1dxx"
      },
      "outputs": [],
      "source": [
        "from sklearn.model_selection import train_test_split\n",
        "\n",
        "train, val = train_test_split(train_df, test_size=0.1 , random_state=42)\n",
        "\n",
        "size = (572, 572)\n",
        "mean=[0.485, 0.456, 0.406]\n",
        "std=[0.229, 0.224, 0.225]\n",
        "batch_size = 8\n",
        "\n",
        "transform_image = transforms.Compose([transforms.Resize(size), transforms.ToTensor(), transforms.Normalize(mean=mean, std=std)])\n",
        "\n",
        "transform_mask = transforms.Compose([transforms.Resize(size), transforms.ToTensor()])\n",
        "\n",
        "train_dataset = ImagesDataset(folder_path, train, transform_image, transform_mask)\n",
        "val_dataset = ImagesDataset(folder_path, val, transform_image, transform_mask)\n",
        "test_dataset = ImagesDataset(folder_path, test, transform_image, transform_mask)\n",
        "train_loader = DataLoader(train_dataset, batch_size=batch_size, shuffle=True)\n",
        "val_loader = DataLoader(val_dataset, batch_size=batch_size, shuffle=False)\n",
        "test_loader = DataLoader(test_dataset, batch_size=batch_size, shuffle=False)"
      ]
    },
    {
      "cell_type": "markdown",
      "id": "rrEV7VFN1_60",
      "metadata": {
        "id": "rrEV7VFN1_60"
      },
      "source": [
        "### Training/evaluation loop"
      ]
    },
    {
      "cell_type": "code",
      "execution_count": 27,
      "id": "sDeneMzs7XOP",
      "metadata": {
        "id": "sDeneMzs7XOP"
      },
      "outputs": [],
      "source": [
        "def learning(num_epochs, train_load, val_load, model, optimizer, criterion):\n",
        "  train_losses = []\n",
        "  val_losses = []\n",
        "\n",
        "  for epoch in range(num_epochs):\n",
        "    model.train()\n",
        "    train_loss = 0\n",
        "    for x_batch, y_batch in tqdm(train_load):\n",
        "        x_batch, y_batch = x_batch.to(device), y_batch.to(device)\n",
        "        optimizer.zero_grad()\n",
        "        outputs = model(x_batch)\n",
        "        loss = criterion(outputs, y_batch)\n",
        "        loss.backward()\n",
        "        optimizer.step()\n",
        "        train_loss += loss.item()\n",
        "    train_losses.append(train_loss/len(train_load))\n",
        "\n",
        "    model.eval()\n",
        "    val_loss = 0\n",
        "    with torch.no_grad():\n",
        "        for x_batch, y_batch in tqdm(val_load):\n",
        "          x_batch, y_batch = x_batch.to(device), y_batch.to(device)\n",
        "          outputs = model(x_batch)\n",
        "          loss = criterion(outputs, y_batch)\n",
        "          val_loss += (loss.item())\n",
        "    val_losses.append(val_loss/len(val_load))\n",
        "\n",
        "    print(f\"Epoch [{epoch+1}/{num_epochs}], Train loss: {train_loss:.4f}, Val loss: {val_loss:.4f}\")\n",
        "  return model, train_losses, val_losses"
      ]
    },
    {
      "cell_type": "markdown",
      "id": "4AFsMmyU2Dgx",
      "metadata": {
        "id": "4AFsMmyU2Dgx"
      },
      "source": [
        "### Prediction function"
      ]
    },
    {
      "cell_type": "code",
      "execution_count": 28,
      "id": "SZ6m_ecg-BVX",
      "metadata": {
        "id": "SZ6m_ecg-BVX"
      },
      "outputs": [],
      "source": [
        "def prediction(model, loader):\n",
        "  model.eval()\n",
        "  predictions = []\n",
        "  orig_images = []\n",
        "  with torch.no_grad():\n",
        "    for x_batch, y_batch in tqdm(loader):\n",
        "        x_batch, y_batch = x_batch.to(device), y_batch.to(device)\n",
        "        outputs = model(x_batch)\n",
        "        predictions.append(outputs.cpu().numpy())\n",
        "        orig_images.append(outputs.cpu().numpy())\n",
        "  predictions = np.concatenate(predictions, axis=0).flatten()\n",
        "  orig_images = np.concatenate(orig_images, axis=0).flatten()\n",
        "  return predictions, orig_images"
      ]
    },
    {
      "cell_type": "code",
      "execution_count": 29,
      "id": "dtTBU591VaJY",
      "metadata": {
        "id": "dtTBU591VaJY"
      },
      "outputs": [],
      "source": [
        "def validation(model, loader, images_to_draw):\n",
        "    predictions, orig_images = prediction(model, loader)\n",
        "\n",
        "    total_metric = 0\n",
        "    for x, y in zip(predictions, orig_images):\n",
        "        total_metric += calculate_iou(x, y)\n",
        "\n",
        "    print(\"IOU:\", total_metric / len(predictions))\n",
        "    \n",
        "    for i in range(images_to_draw):\n",
        "        draw(orig_images[i], predictions[i])\n"
      ]
    },
    {
      "cell_type": "markdown",
      "id": "l12xJx4g2G4w",
      "metadata": {
        "id": "l12xJx4g2G4w"
      },
      "source": [
        "### Experiments"
      ]
    },
    {
      "cell_type": "code",
      "execution_count": 30,
      "id": "db04e620",
      "metadata": {},
      "outputs": [],
      "source": [
        "def double_conv(in_ch, out_ch):\n",
        "    conv = nn.Sequential(\n",
        "        nn.Conv2d(in_channels=in_ch,out_channels=out_ch,kernel_size=3,stride=1,padding=1),\n",
        "        nn.BatchNorm2d(out_ch),                                                            \n",
        "        nn.ReLU(inplace=True),\n",
        "        nn.Conv2d(in_channels=out_ch,out_channels=out_ch,kernel_size=3,stride=1,padding=1), \n",
        "        nn.BatchNorm2d(out_ch),                                                            \n",
        "        nn.ReLU(inplace=True)\n",
        "    )\n",
        "    \n",
        "    return conv\n",
        "\n",
        "#def cropper(og_tensor, target_tensor):\n",
        "#    og_shape = og_tensor.shape[2]\n",
        "#    target_shape = target_tensor.shape[2]\n",
        "#    delta = (og_shape - target_shape) // 2\n",
        "#    cropped_og_tensor = og_tensor[:,:,delta:og_shape-delta,delta:og_shape-delta]\n",
        "#    return cropped_og_tensor\n",
        " \n",
        "    \n",
        "def padder(left_tensor, right_tensor): \n",
        "    # left_tensor is the tensor on the encoder side of UNET\n",
        "    # right_tensor is the tensor on the decoder side  of the UNET\n",
        "    \n",
        "    if left_tensor.shape != right_tensor.shape:\n",
        "        padded = torch.zeros(left_tensor.shape)\n",
        "        padded[:, :, :right_tensor.shape[2], :right_tensor.shape[3]] = right_tensor\n",
        "        return padded.to(device)\n",
        "    \n",
        "    return right_tensor.to(device)"
      ]
    },
    {
      "cell_type": "code",
      "execution_count": 31,
      "id": "35d9ed15",
      "metadata": {},
      "outputs": [],
      "source": [
        "class UNET(nn.Module):\n",
        "    def __init__(self,in_chnls, n_classes):\n",
        "        super(UNET,self).__init__()\n",
        "        \n",
        "        self.in_chnls = in_chnls\n",
        "        self.n_classes = n_classes\n",
        "        \n",
        "        self.max_pool = nn.MaxPool2d(kernel_size=2,stride=2)\n",
        "        \n",
        "        self.down_conv_1 = double_conv(in_ch=self.in_chnls,out_ch=64)\n",
        "        self.down_conv_2 = double_conv(in_ch=64,out_ch=128)\n",
        "        self.down_conv_3 = double_conv(in_ch=128,out_ch=256)\n",
        "        self.down_conv_4 = double_conv(in_ch=256,out_ch=512)\n",
        "        self.down_conv_5 = double_conv(in_ch=512,out_ch=1024)\n",
        "        #print(self.down_conv_1)\n",
        "        \n",
        "        self.up_conv_trans_1 = nn.ConvTranspose2d(in_channels=1024,out_channels=512,kernel_size=2,stride=2)\n",
        "        self.up_conv_trans_2 = nn.ConvTranspose2d(in_channels=512,out_channels=256,kernel_size=2,stride=2)\n",
        "        self.up_conv_trans_3 = nn.ConvTranspose2d(in_channels=256,out_channels=128,kernel_size=2,stride=2)\n",
        "        self.up_conv_trans_4 = nn.ConvTranspose2d(in_channels=128,out_channels=64,kernel_size=2,stride=2)\n",
        "        \n",
        "        self.up_conv_1 = double_conv(in_ch=1024,out_ch=512)\n",
        "        self.up_conv_2 = double_conv(in_ch=512,out_ch=256)\n",
        "        self.up_conv_3 = double_conv(in_ch=256,out_ch=128)\n",
        "        self.up_conv_4 = double_conv(in_ch=128,out_ch=64)\n",
        "        \n",
        "        self.conv_1x1 = nn.Conv2d(in_channels=64,out_channels=self.n_classes,kernel_size=1,stride=1)\n",
        "        \n",
        "    def forward(self,x):\n",
        "        \n",
        "        # encoding\n",
        "        x1 = self.down_conv_1(x)\n",
        "        #print(\"X1\", x1.shape)\n",
        "        p1 = self.max_pool(x1)\n",
        "        #print(\"p1\", p1.shape)\n",
        "        x2 = self.down_conv_2(p1)\n",
        "        #print(\"X2\", x2.shape)\n",
        "        p2 = self.max_pool(x2)\n",
        "        #print(\"p2\", p2.shape)\n",
        "        x3 = self.down_conv_3(p2)\n",
        "        #print(\"X2\", x3.shape)\n",
        "        p3 = self.max_pool(x3)\n",
        "        #print(\"p3\", p3.shape)\n",
        "        x4 = self.down_conv_4(p3)\n",
        "        #print(\"X4\", x4.shape)\n",
        "        p4 = self.max_pool(x4)\n",
        "        #print(\"p4\", p4.shape)\n",
        "        x5 = self.down_conv_5(p4)\n",
        "        #print(\"X5\", x5.shape)\n",
        "        \n",
        "        # decoding\n",
        "        d1 = self.up_conv_trans_1(x5)  # up transpose convolution (\"up sampling\" as called in UNET paper)\n",
        "        pad1 = padder(x4,d1) # padding d1 to match x4 shape\n",
        "        cat1 = torch.cat([x4,pad1],dim=1) # concatenating padded d1 and x4 on channel dimension(dim 1) [batch(dim 0),channel(dim 1),height(dim 2),width(dim 3)]\n",
        "        uc1 = self.up_conv_1(cat1) # 1st up double convolution\n",
        "        \n",
        "        d2 = self.up_conv_trans_2(uc1)\n",
        "        pad2 = padder(x3,d2)\n",
        "        cat2 = torch.cat([x3,pad2],dim=1)\n",
        "        uc2 = self.up_conv_2(cat2)\n",
        "        \n",
        "        d3 = self.up_conv_trans_3(uc2)\n",
        "        pad3 = padder(x2,d3)\n",
        "        cat3 = torch.cat([x2,pad3],dim=1)\n",
        "        uc3 = self.up_conv_3(cat3)\n",
        "        \n",
        "        d4 = self.up_conv_trans_4(uc3)\n",
        "        pad4 = padder(x1,d4)\n",
        "        cat4 = torch.cat([x1,pad4],dim=1)\n",
        "        uc4 = self.up_conv_4(cat4)\n",
        "        \n",
        "        conv_1x1 = self.conv_1x1(uc4)\n",
        "        return conv_1x1\n",
        "        #print(conv_1x1.shape)"
      ]
    },
    {
      "cell_type": "code",
      "execution_count": 32,
      "id": "fb2a9ed2",
      "metadata": {},
      "outputs": [],
      "source": [
        "model = UNET(in_chnls = 3, n_classes = 1).to(device)"
      ]
    },
    {
      "cell_type": "code",
      "execution_count": 33,
      "id": "GmF0kc5R2RAG",
      "metadata": {
        "colab": {
          "base_uri": "https://localhost:8080/",
          "height": 1000
        },
        "id": "GmF0kc5R2RAG",
        "outputId": "dca52f72-a6a2-4f53-a85f-9b755c948755"
      },
      "outputs": [
        {
          "name": "stderr",
          "output_type": "stream",
          "text": [
            "  0%|          | 0/99 [01:01<?, ?it/s]\n"
          ]
        }
      ],
      "source": [
        "num_epochs = 40\n",
        "learning_rate = 0.001\n",
        "optimizer = optim.Adamax(model.parameters(), lr=learning_rate)\n",
        "criterion = nn.BCEWithLogitsLoss()\n",
        "\n",
        "model, train_losses, val_losses = learning(num_epochs, train_loader, val_loader, model, optimizer, criterion)\n",
        "\n",
        "plt.subplot(2, 1, 1)\n",
        "plt.plot(train_losses, label='Training Losses', color='blue')\n",
        "plt.xlabel('Epoch')\n",
        "plt.ylabel('Loss')\n",
        "plt.title('Training Losses')\n",
        "plt.legend()\n",
        "plt.subplot(2, 1, 2)\n",
        "plt.plot(val_losses, label='Validation Losses', color='orange')\n",
        "plt.xlabel('Epoch')\n",
        "plt.ylabel('Loss')\n",
        "plt.title('Validation Losses')\n",
        "plt.legend()\n",
        "plt.tight_layout()\n",
        "plt.show()"
      ]
    },
    {
      "cell_type": "markdown",
      "id": "YpqqcBlY62Sw",
      "metadata": {
        "id": "YpqqcBlY62Sw"
      },
      "source": [
        "### Evaluation (оценка качества модели)"
      ]
    },
    {
      "cell_type": "code",
      "execution_count": null,
      "id": "5bcdf0ea",
      "metadata": {
        "colab": {
          "base_uri": "https://localhost:8080/",
          "height": 1000
        },
        "id": "5bcdf0ea",
        "outputId": "878e92cf-335f-4376-ffcd-63f26e424bbc"
      },
      "outputs": [],
      "source": [
        "validation(model, val_loader, 10)"
      ]
    },
    {
      "cell_type": "code",
      "execution_count": null,
      "id": "_u8V0p8JKod7",
      "metadata": {
        "colab": {
          "base_uri": "https://localhost:8080/",
          "height": 1000
        },
        "id": "_u8V0p8JKod7",
        "outputId": "52903fad-61d0-4fb8-c00a-29b75ac7e89a"
      },
      "outputs": [],
      "source": [
        "validation(model, test_loader, 10)"
      ]
    }
  ],
  "metadata": {
    "accelerator": "GPU",
    "colab": {
      "gpuType": "T4",
      "provenance": []
    },
    "kernelspec": {
      "display_name": "Python 3",
      "name": "python3"
    },
    "language_info": {
      "codemirror_mode": {
        "name": "ipython",
        "version": 3
      },
      "file_extension": ".py",
      "mimetype": "text/x-python",
      "name": "python",
      "nbconvert_exporter": "python",
      "pygments_lexer": "ipython3",
      "version": "3.9.6"
    }
  },
  "nbformat": 4,
  "nbformat_minor": 5
}
