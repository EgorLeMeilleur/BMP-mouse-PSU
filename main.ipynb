{
  "cells": [
    {
      "cell_type": "markdown",
      "id": "dc1432d4",
      "metadata": {},
      "source": [
        "# НУЖНО ВЫБРАТЬ МЕТРИКУ И ОБУЧИТЬ МОДЕЛЬ"
      ]
    },
    {
      "cell_type": "code",
      "execution_count": 1,
      "id": "hjO9f4gnIoCf",
      "metadata": {
        "colab": {
          "base_uri": "https://localhost:8080/"
        },
        "id": "hjO9f4gnIoCf",
        "outputId": "e789306e-f32e-4843-e621-b7742b27d293"
      },
      "outputs": [
        {
          "name": "stdout",
          "output_type": "stream",
          "text": [
            "cpu\n"
          ]
        }
      ],
      "source": [
        "import torch\n",
        "import torch.nn as nn\n",
        "import torch.optim as optim\n",
        "from torch.utils.data import Dataset, DataLoader\n",
        "import pandas as pd\n",
        "from PIL import Image\n",
        "import os\n",
        "import torchvision.transforms as transforms\n",
        "import numpy as np\n",
        "from tqdm import tqdm\n",
        "import matplotlib.pyplot as plt\n",
        "import sklearn\n",
        "import segmentation_models_pytorch as smp\n",
        "from segmentation_models_pytorch.losses import DiceLoss\n",
        "\n",
        "folder_path = \"data/20230904_segm_rat_OFT_gray_back/20230904_segm_rat_OFT_gray_back\"\n",
        "\n",
        "device = torch.device(\"cuda:0\" if torch.cuda.is_available() else \"cpu\")\n",
        "print(device)\n",
        "\n",
        "train_df = pd.read_csv(\"train_data.csv\")\n",
        "test = pd.read_csv(\"test_data.csv\")"
      ]
    },
    {
      "cell_type": "code",
      "execution_count": null,
      "id": "28bb0a8f",
      "metadata": {},
      "outputs": [],
      "source": [
        "# !pip install segmentation-models-pytorch"
      ]
    },
    {
      "cell_type": "code",
      "execution_count": 5,
      "id": "12ef3ad3",
      "metadata": {},
      "outputs": [
        {
          "name": "stdout",
          "output_type": "stream",
          "text": [
            "CSV file created successfully!\n"
          ]
        }
      ],
      "source": [
        "# import os\n",
        "# import pandas as pd\n",
        "\n",
        "# train_images_folder = folder_path + \"/test_images\"\n",
        "# train_masks_folder = folder_path + \"/test_masks\"\n",
        "\n",
        "# train_images_files = os.listdir(train_images_folder)\n",
        "# train_masks_files = os.listdir(train_masks_folder)\n",
        "\n",
        "# image_paths = [os.path.join(\"test_images\", file) for file in train_images_files]\n",
        "# mask_paths = [os.path.join(\"test_masks\", file) for file in train_masks_files]\n",
        "\n",
        "# data = {'orig_image': image_paths, 'mask_image': mask_paths}\n",
        "# df = pd.DataFrame(data)\n",
        "\n",
        "# csv_file_path = \"test_data.csv\"\n",
        "\n",
        "# df.to_csv(csv_file_path, index=False)\n",
        "\n",
        "# print(\"CSV file created successfully!\")"
      ]
    },
    {
      "cell_type": "code",
      "execution_count": 2,
      "id": "01185e90",
      "metadata": {},
      "outputs": [],
      "source": [
        "def draw(orig_image, mask_image):\n",
        "    fig, axes = plt.subplots(1, 2)\n",
        "\n",
        "    axes[0].imshow(orig_image)\n",
        "    axes[0].set_title('Original Image')\n",
        "    \n",
        "    axes[1].imshow(mask_image)\n",
        "    axes[1].set_title('Mask Image')\n",
        "\n",
        "    plt.tight_layout()\n",
        "    plt.show()"
      ]
    },
    {
      "cell_type": "markdown",
      "id": "Qp8AXKYe1GA0",
      "metadata": {
        "id": "Qp8AXKYe1GA0"
      },
      "source": [
        "### Preprocessing (подготовка данных)"
      ]
    },
    {
      "cell_type": "code",
      "execution_count": 3,
      "id": "YtAjmVyknkeZ",
      "metadata": {
        "id": "YtAjmVyknkeZ"
      },
      "outputs": [],
      "source": [
        "class ImagesDataset(Dataset):\n",
        "    def __init__(self, folder, data, transform):\n",
        "      self.folder = folder\n",
        "      self.data = data.copy()\n",
        "      self.orig_image_paths = [os.path.join(folder, filename) for filename in data['orig_image'].copy()]\n",
        "      self.mask_image_paths = [os.path.join(folder, filename) for filename in data['mask_image'].copy()]\n",
        "      self.transform = transform\n",
        "\n",
        "    def __len__(self):\n",
        "        return len(self.orig_image_paths)\n",
        "\n",
        "    def __getitem__(self, idx):\n",
        "        orig_image_path = self.orig_image_paths[idx]\n",
        "        mask_image_path = self.mask_image_paths[idx]\n",
        "        orig_image = Image.open(orig_image_path).convert('RGB')\n",
        "        mask_image = Image.open(mask_image_path).convert('RGB')\n",
        "\n",
        "        orig_image = self.transform(orig_image)\n",
        "        orig_image = orig_image.to(orig_image)\n",
        "        \n",
        "        mask_image = self.transform(mask_image)\n",
        "        mask_image = mask_image.to(mask_image)\n",
        "\n",
        "        return orig_image.float(), mask_image.float()"
      ]
    },
    {
      "cell_type": "code",
      "execution_count": 4,
      "id": "QYSoz-zi1dxx",
      "metadata": {
        "id": "QYSoz-zi1dxx"
      },
      "outputs": [],
      "source": [
        "from sklearn.model_selection import train_test_split\n",
        "\n",
        "train, val = train_test_split(train_df, test_size=0.1 , random_state=42)\n",
        "\n",
        "size = (320, 320)\n",
        "mean=[0.485, 0.456, 0.406]\n",
        "std=[0.229, 0.224, 0.225]\n",
        "batch_size = 8\n",
        "\n",
        "ENCODER = 'timm-efficientnet-b0'\n",
        "WEIGHTS = 'imagenet'\n",
        "\n",
        "transform = transforms.Compose([transforms.Resize(size), transforms.ToTensor(),\n",
        "                                 transforms.Normalize(mean=mean, std=std)])\n",
        "\n",
        "train_dataset = ImagesDataset(folder_path, train, transform)\n",
        "val_dataset = ImagesDataset(folder_path, val, transform)\n",
        "test_dataset = ImagesDataset(folder_path, test, transform)\n",
        "train_loader = DataLoader(train_dataset, batch_size=batch_size, shuffle=True)\n",
        "val_loader = DataLoader(val_dataset, batch_size=batch_size, shuffle=False)\n",
        "test_loader = DataLoader(test_dataset, batch_size=batch_size, shuffle=False)"
      ]
    },
    {
      "cell_type": "markdown",
      "id": "rrEV7VFN1_60",
      "metadata": {
        "id": "rrEV7VFN1_60"
      },
      "source": [
        "### Training/evaluation loop"
      ]
    },
    {
      "cell_type": "code",
      "execution_count": 5,
      "id": "sDeneMzs7XOP",
      "metadata": {
        "id": "sDeneMzs7XOP"
      },
      "outputs": [],
      "source": [
        "def learning(num_epochs, train_load, val_load, model, optimizer, criterion):\n",
        "  model.to(device)\n",
        "\n",
        "  train_losses = []\n",
        "  val_losses = []\n",
        "\n",
        "  for epoch in range(num_epochs):\n",
        "    model.train()\n",
        "    train_loss = 0\n",
        "    for x_batch, y_batch in tqdm(train_load):\n",
        "        x_batch, y_batch = x_batch.to(device), y_batch.to(device)\n",
        "        optimizer.zero_grad()\n",
        "        logits, outputs = model(x_batch)\n",
        "        loss = criterion(outputs, y_batch)\n",
        "        loss.backward()\n",
        "        optimizer.step()\n",
        "        train_loss += loss.item()\n",
        "    train_losses.append(train_loss/len(train_load))\n",
        "\n",
        "    model.eval()\n",
        "    val_loss = 0\n",
        "    with torch.no_grad():\n",
        "        for x_batch, y_batch in tqdm(val_load):\n",
        "          x_batch, y_batch = x_batch.to(device), y_batch.to(device)\n",
        "          outputs = model(x_batch)\n",
        "          loss = criterion(outputs, y_batch)\n",
        "          val_loss += (loss.item())\n",
        "    val_losses.append(val_loss/len(val_load))\n",
        "\n",
        "    print(f\"Epoch [{epoch+1}/{num_epochs}], Train loss: {train_loss:.4f}, Val loss: {val_loss:.4f}\")\n",
        "  return model, train_losses, val_losses"
      ]
    },
    {
      "cell_type": "markdown",
      "id": "4AFsMmyU2Dgx",
      "metadata": {
        "id": "4AFsMmyU2Dgx"
      },
      "source": [
        "### Prediction function"
      ]
    },
    {
      "cell_type": "code",
      "execution_count": 6,
      "id": "SZ6m_ecg-BVX",
      "metadata": {
        "id": "SZ6m_ecg-BVX"
      },
      "outputs": [],
      "source": [
        "def prediction(model, loader):\n",
        "  model.eval()\n",
        "  predictions = []\n",
        "  orig_images = []\n",
        "  with torch.no_grad():\n",
        "    for x_batch, y_batch in tqdm(loader):\n",
        "        x_batch, y_batch = x_batch.to(device), y_batch.to(device)\n",
        "        logits, outputs = model(x_batch)\n",
        "        predictions.append(outputs.cpu().numpy())\n",
        "        orig_images.append(outputs.cpu().numpy())\n",
        "  predictions = np.concatenate(predictions, axis=0).flatten()\n",
        "  orig_images = np.concatenate(orig_images, axis=0).flatten()\n",
        "  return predictions, orig_images"
      ]
    },
    {
      "cell_type": "code",
      "execution_count": 7,
      "id": "dtTBU591VaJY",
      "metadata": {
        "id": "dtTBU591VaJY"
      },
      "outputs": [],
      "source": [
        "def validation(model, loader, images_to_draw):\n",
        "    predictions, orig_images = prediction(model, loader)\n",
        "\n",
        "    logits, loss = DiceLoss(orig_images, predictions)\n",
        "    \n",
        "    for i in range(images_to_draw):\n",
        "        draw(orig_images[i], predictions[i])\n"
      ]
    },
    {
      "cell_type": "markdown",
      "id": "l12xJx4g2G4w",
      "metadata": {
        "id": "l12xJx4g2G4w"
      },
      "source": [
        "### Experiments"
      ]
    },
    {
      "cell_type": "code",
      "execution_count": 8,
      "id": "98f967fb",
      "metadata": {},
      "outputs": [],
      "source": [
        "class SegmentationModel(nn.Module):\n",
        "    def __init__(self):\n",
        "        super(SegmentationModel, self).__init__()\n",
        "\n",
        "        self.model = smp.UnetPlusPlus(\n",
        "            encoder_name=ENCODER,\n",
        "            encoder_weights=WEIGHTS,\n",
        "            in_channels=3,\n",
        "            classes=1,\n",
        "            activation=None)\n",
        "\n",
        "    def forward(self, images, masks=None):\n",
        "        logits = self.model(images)\n",
        "\n",
        "        if masks != None:\n",
        "            loss1 = DiceLoss(mode='binary')(logits, masks)\n",
        "            loss2 = nn.BCEWithLogitsLoss()(logits, masks)\n",
        "            return logits, loss1 + loss2\n",
        "\n",
        "        return logits"
      ]
    },
    {
      "cell_type": "code",
      "execution_count": 9,
      "id": "957ba6f3",
      "metadata": {
        "id": "957ba6f3"
      },
      "outputs": [
        {
          "name": "stderr",
          "output_type": "stream",
          "text": [
            "Downloading: \"https://github.com/huggingface/pytorch-image-models/releases/download/v0.1-weights/tf_efficientnet_b0-0af12548.pth\" to C:\\Users\\user/.cache\\torch\\hub\\checkpoints\\tf_efficientnet_b0-0af12548.pth\n",
            "100%|██████████| 20.4M/20.4M [00:10<00:00, 2.03MB/s]\n"
          ]
        }
      ],
      "source": [
        "model = SegmentationModel()"
      ]
    },
    {
      "cell_type": "code",
      "execution_count": 11,
      "id": "GmF0kc5R2RAG",
      "metadata": {
        "colab": {
          "base_uri": "https://localhost:8080/",
          "height": 1000
        },
        "id": "GmF0kc5R2RAG",
        "outputId": "dca52f72-a6a2-4f53-a85f-9b755c948755"
      },
      "outputs": [
        {
          "name": "stderr",
          "output_type": "stream",
          "text": [
            "  0%|          | 0/64 [00:00<?, ?it/s]"
          ]
        },
        {
          "name": "stderr",
          "output_type": "stream",
          "text": [
            "  0%|          | 0/64 [00:04<?, ?it/s]\n"
          ]
        },
        {
          "ename": "ValueError",
          "evalue": "too many values to unpack (expected 2)",
          "output_type": "error",
          "traceback": [
            "\u001b[1;31m---------------------------------------------------------------------------\u001b[0m",
            "\u001b[1;31mValueError\u001b[0m                                Traceback (most recent call last)",
            "Cell \u001b[1;32mIn[11], line 6\u001b[0m\n\u001b[0;32m      3\u001b[0m optimizer \u001b[38;5;241m=\u001b[39m optim\u001b[38;5;241m.\u001b[39mAdamax(model\u001b[38;5;241m.\u001b[39mparameters(), lr\u001b[38;5;241m=\u001b[39mlearning_rate)\n\u001b[0;32m      4\u001b[0m criterion \u001b[38;5;241m=\u001b[39m DiceLoss(mode\u001b[38;5;241m=\u001b[39m\u001b[38;5;124m'\u001b[39m\u001b[38;5;124mbinary\u001b[39m\u001b[38;5;124m'\u001b[39m)\n\u001b[1;32m----> 6\u001b[0m model, train_losses, val_losses \u001b[38;5;241m=\u001b[39m \u001b[43mlearning\u001b[49m\u001b[43m(\u001b[49m\u001b[43mnum_epochs\u001b[49m\u001b[43m,\u001b[49m\u001b[43m \u001b[49m\u001b[43mtrain_loader\u001b[49m\u001b[43m,\u001b[49m\u001b[43m \u001b[49m\u001b[43mval_loader\u001b[49m\u001b[43m,\u001b[49m\u001b[43m \u001b[49m\u001b[43mmodel\u001b[49m\u001b[43m,\u001b[49m\u001b[43m \u001b[49m\u001b[43moptimizer\u001b[49m\u001b[43m,\u001b[49m\u001b[43m \u001b[49m\u001b[43mcriterion\u001b[49m\u001b[43m)\u001b[49m\n\u001b[0;32m      8\u001b[0m plt\u001b[38;5;241m.\u001b[39msubplot(\u001b[38;5;241m2\u001b[39m, \u001b[38;5;241m1\u001b[39m, \u001b[38;5;241m1\u001b[39m)\n\u001b[0;32m      9\u001b[0m plt\u001b[38;5;241m.\u001b[39mplot(train_losses, label\u001b[38;5;241m=\u001b[39m\u001b[38;5;124m'\u001b[39m\u001b[38;5;124mTraining Losses\u001b[39m\u001b[38;5;124m'\u001b[39m, color\u001b[38;5;241m=\u001b[39m\u001b[38;5;124m'\u001b[39m\u001b[38;5;124mblue\u001b[39m\u001b[38;5;124m'\u001b[39m)\n",
            "Cell \u001b[1;32mIn[5], line 13\u001b[0m, in \u001b[0;36mlearning\u001b[1;34m(num_epochs, train_load, val_load, model, optimizer, criterion)\u001b[0m\n\u001b[0;32m     11\u001b[0m x_batch, y_batch \u001b[38;5;241m=\u001b[39m x_batch\u001b[38;5;241m.\u001b[39mto(device), y_batch\u001b[38;5;241m.\u001b[39mto(device)\n\u001b[0;32m     12\u001b[0m optimizer\u001b[38;5;241m.\u001b[39mzero_grad()\n\u001b[1;32m---> 13\u001b[0m logits, outputs \u001b[38;5;241m=\u001b[39m model(x_batch)\n\u001b[0;32m     14\u001b[0m loss \u001b[38;5;241m=\u001b[39m criterion(outputs, y_batch)\n\u001b[0;32m     15\u001b[0m loss\u001b[38;5;241m.\u001b[39mbackward()\n",
            "\u001b[1;31mValueError\u001b[0m: too many values to unpack (expected 2)"
          ]
        }
      ],
      "source": [
        "num_epochs = 40\n",
        "learning_rate = 0.001\n",
        "optimizer = optim.Adamax(model.parameters(), lr=learning_rate)\n",
        "criterion = DiceLoss(mode='binary')\n",
        "\n",
        "model, train_losses, val_losses = learning(num_epochs, train_loader, val_loader, model, optimizer, criterion)\n",
        "\n",
        "plt.subplot(2, 1, 1)\n",
        "plt.plot(train_losses, label='Training Losses', color='blue')\n",
        "plt.xlabel('Epoch')\n",
        "plt.ylabel('Loss')\n",
        "plt.title('Training Losses')\n",
        "plt.legend()\n",
        "plt.subplot(2, 1, 2)\n",
        "plt.plot(val_losses, label='Validation Losses', color='orange')\n",
        "plt.xlabel('Epoch')\n",
        "plt.ylabel('Loss')\n",
        "plt.title('Validation Losses')\n",
        "plt.legend()\n",
        "plt.tight_layout()\n",
        "plt.show()"
      ]
    },
    {
      "cell_type": "markdown",
      "id": "YpqqcBlY62Sw",
      "metadata": {
        "id": "YpqqcBlY62Sw"
      },
      "source": [
        "### Evaluation (оценка качества модели)"
      ]
    },
    {
      "cell_type": "code",
      "execution_count": null,
      "id": "5bcdf0ea",
      "metadata": {
        "colab": {
          "base_uri": "https://localhost:8080/",
          "height": 1000
        },
        "id": "5bcdf0ea",
        "outputId": "878e92cf-335f-4376-ffcd-63f26e424bbc"
      },
      "outputs": [],
      "source": [
        "validation(model, val_loader, 10)"
      ]
    },
    {
      "cell_type": "code",
      "execution_count": null,
      "id": "_u8V0p8JKod7",
      "metadata": {
        "colab": {
          "base_uri": "https://localhost:8080/",
          "height": 1000
        },
        "id": "_u8V0p8JKod7",
        "outputId": "52903fad-61d0-4fb8-c00a-29b75ac7e89a"
      },
      "outputs": [],
      "source": [
        "validation(model, test_loader, 10)"
      ]
    }
  ],
  "metadata": {
    "accelerator": "GPU",
    "colab": {
      "gpuType": "T4",
      "provenance": []
    },
    "kernelspec": {
      "display_name": "Python 3",
      "name": "python3"
    },
    "language_info": {
      "codemirror_mode": {
        "name": "ipython",
        "version": 3
      },
      "file_extension": ".py",
      "mimetype": "text/x-python",
      "name": "python",
      "nbconvert_exporter": "python",
      "pygments_lexer": "ipython3",
      "version": "3.9.13"
    }
  },
  "nbformat": 4,
  "nbformat_minor": 5
}
